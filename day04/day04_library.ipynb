{
 "cells": [
  {
   "cell_type": "code",
   "execution_count": 2,
   "metadata": {},
   "outputs": [],
   "source": [
    "'''\n",
    "작성자: 최연웅\n",
    "작성일: 23.07.21                파일명: day04_library.py\n",
    "목적: PIL 패키지를 사용한 이미지 라이브러리 실습\n",
    "'''\n",
    "from PIL import Image, ImageFilter, ImageEnhance, ImageOps\n",
    "\n",
    "img = Image.open(\"C:/Users/user/Desktop/WORK/Python/imgsource/photo/picture01.jpg\")\n",
    "img.show()"
   ]
  }
 ],
 "metadata": {
  "kernelspec": {
   "display_name": "Python 3",
   "language": "python",
   "name": "python3"
  },
  "language_info": {
   "codemirror_mode": {
    "name": "ipython",
    "version": 3
   },
   "file_extension": ".py",
   "mimetype": "text/x-python",
   "name": "python",
   "nbconvert_exporter": "python",
   "pygments_lexer": "ipython3",
   "version": "3.11.4"
  },
  "orig_nbformat": 4
 },
 "nbformat": 4,
 "nbformat_minor": 2
}
